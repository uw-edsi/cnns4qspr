{
 "cells": [
  {
   "cell_type": "code",
   "execution_count": 1,
   "metadata": {},
   "outputs": [],
   "source": [
    "import numpy as np\n",
    "import pandas as pd\n",
    "import h5py\n",
    "\n",
    "\n",
    "import pybel\n",
    "from tfbio.data import Featurizer\n",
    "\n",
    "import warnings\n",
    "\n",
    "import matplotlib.pyplot as plt\n",
    "import seaborn as sns\n",
    "\n",
    "%matplotlib inline"
   ]
  },
  {
   "cell_type": "code",
   "execution_count": 2,
   "metadata": {},
   "outputs": [
    {
     "name": "stdout",
     "output_type": "stream",
     "text": [
      "../PDBbind\n"
     ]
    }
   ],
   "source": [
    "# path to the extracted PDBbind dataset\n",
    "path = '../PDBbind'\n",
    "print(path)"
   ]
  },
  {
   "cell_type": "markdown",
   "metadata": {},
   "source": [
    "# Parse and clean affinity data"
   ]
  },
  {
   "cell_type": "code",
   "execution_count": 3,
   "metadata": {},
   "outputs": [],
   "source": [
    "%%bash -s $path --out missing\n",
    "\n",
    "path=$1\n",
    "\n",
    "# Save binding affinities to csv file\n",
    "echo $path > 1\n",
    "\n",
    "echo 'pdbid,-logKd/Ki' > affinity_data.csv\n",
    "cat $path/plain-text-index/index/INDEX_general_PL_data.2019 | while read l1 l2 l3 l4 l5; do\n",
    "    if [[ ! $l1 =~ \"#\" ]]; then\n",
    "        echo $l1,$l4\n",
    "    fi\n",
    "done >> affinity_data.csv\n",
    "\n",
    "\n",
    "# Find affinities without structural data (i.e. with missing directories)\n",
    "\n",
    "cut -f 1 -d ',' affinity_data.csv | tail -n +2| while read l;\n",
    "    do if [ ! -e $path/general-set-except-refined/$l ] &&  [ ! -e $path/refined-set/$l ]; then\n",
    "        echo $l;\n",
    "    fi\n",
    "done "
   ]
  },
  {
   "cell_type": "code",
   "execution_count": 4,
   "metadata": {},
   "outputs": [
    {
     "data": {
      "text/plain": [
       "'1d2v\\n1jou\\n1s8j\\n1cam\\n5y79\\n2adj\\n1pts\\n6eu6\\n3b5y\\n4mdm\\n4lz9\\n3h1k\\n5oqt\\n1z9j\\n3b5d\\n3b62\\n4mdl\\n4mdg\\n4q78\\n1h9s\\n1ztz\\n1hpb\\n1e59\\n1lr8\\n4cpa\\n3i8w\\n5e7v\\n'"
      ]
     },
     "execution_count": 4,
     "metadata": {},
     "output_type": "execute_result"
    }
   ],
   "source": [
    "missing"
   ]
  },
  {
   "cell_type": "code",
   "execution_count": 5,
   "metadata": {},
   "outputs": [
    {
     "data": {
      "text/plain": [
       "27"
      ]
     },
     "execution_count": 5,
     "metadata": {},
     "output_type": "execute_result"
    }
   ],
   "source": [
    "missing = set(missing.split())\n",
    "len(missing)\n"
   ]
  },
  {
   "cell_type": "code",
   "execution_count": 19,
   "metadata": {},
   "outputs": [
    {
     "data": {
      "text/plain": [
       "(17652, 2)"
      ]
     },
     "execution_count": 19,
     "metadata": {},
     "output_type": "execute_result"
    }
   ],
   "source": [
    "affinity_data = pd.read_csv('affinity_data.csv', comment='#')\n",
    "affinity_data = affinity_data[~np.in1d(affinity_data['pdbid'], list(missing))]\n",
    "affinity_data.shape"
   ]
  },
  {
   "cell_type": "code",
   "execution_count": 7,
   "metadata": {},
   "outputs": [
    {
     "data": {
      "text/plain": [
       "False"
      ]
     },
     "execution_count": 7,
     "metadata": {},
     "output_type": "execute_result"
    }
   ],
   "source": [
    "# Check for NaNs\n",
    "\n",
    "affinity_data['-logKd/Ki'].isnull().any()"
   ]
  },
  {
   "cell_type": "code",
   "execution_count": 20,
   "metadata": {},
   "outputs": [
    {
     "data": {
      "text/plain": [
       "{'10gs',\n",
       " '1a30',\n",
       " '1bcu',\n",
       " '1e66',\n",
       " '1f8b',\n",
       " '1f8c',\n",
       " '1f8d',\n",
       " '1gpk',\n",
       " '1h23',\n",
       " '1hfs',\n",
       " '1hnn',\n",
       " '1igj',\n",
       " '1jyq',\n",
       " '1kel',\n",
       " '1lbk',\n",
       " '1lol',\n",
       " '1loq',\n",
       " '1lor',\n",
       " '1mq6',\n",
       " '1n1m',\n",
       " '1n2v',\n",
       " '1nvq',\n",
       " '1o3f',\n",
       " '1o5b',\n",
       " '1os0',\n",
       " '1oyt',\n",
       " '1p1q',\n",
       " '1ps3',\n",
       " '1q8t',\n",
       " '1q8u',\n",
       " '1qi0',\n",
       " '1r5y',\n",
       " '1sln',\n",
       " '1sqa',\n",
       " '1u1b',\n",
       " '1u33',\n",
       " '1uto',\n",
       " '1vso',\n",
       " '1w3k',\n",
       " '1w3l',\n",
       " '1w4o',\n",
       " '1xd0',\n",
       " '1yc1',\n",
       " '1z95',\n",
       " '1zea',\n",
       " '2brb',\n",
       " '2cbj',\n",
       " '2cet',\n",
       " '2d1o',\n",
       " '2d3u',\n",
       " '2fvd',\n",
       " '2g70',\n",
       " '2gss',\n",
       " '2hb1',\n",
       " '2iwx',\n",
       " '2j62',\n",
       " '2j78',\n",
       " '2jdm',\n",
       " '2jdu',\n",
       " '2jdy',\n",
       " '2obf',\n",
       " '2ole',\n",
       " '2p4y',\n",
       " '2pcp',\n",
       " '2pq9',\n",
       " '2qbp',\n",
       " '2qbr',\n",
       " '2qft',\n",
       " '2qmj',\n",
       " '2r23',\n",
       " '2v00',\n",
       " '2v7a',\n",
       " '2vl4',\n",
       " '2vo5',\n",
       " '2vot',\n",
       " '2vvn',\n",
       " '2vw5',\n",
       " '2w66',\n",
       " '2wbg',\n",
       " '2wca',\n",
       " '2weg',\n",
       " '2wtv',\n",
       " '2x00',\n",
       " '2x0y',\n",
       " '2x8z',\n",
       " '2x97',\n",
       " '2xb8',\n",
       " '2xbv',\n",
       " '2xdl',\n",
       " '2xhm',\n",
       " '2xnb',\n",
       " '2xy9',\n",
       " '2xys',\n",
       " '2y5h',\n",
       " '2yfe',\n",
       " '2yge',\n",
       " '2yki',\n",
       " '2ymd',\n",
       " '2zcq',\n",
       " '2zcr',\n",
       " '2zjw',\n",
       " '2zwz',\n",
       " '2zx6',\n",
       " '2zxd',\n",
       " '3acw',\n",
       " '3ag9',\n",
       " '3ao4',\n",
       " '3b3s',\n",
       " '3b3w',\n",
       " '3b68',\n",
       " '3bfu',\n",
       " '3bkk',\n",
       " '3bpc',\n",
       " '3cft',\n",
       " '3cj2',\n",
       " '3coy',\n",
       " '3cyx',\n",
       " '3d4z',\n",
       " '3dd0',\n",
       " '3dxg',\n",
       " '3e93',\n",
       " '3ebp',\n",
       " '3ehy',\n",
       " '3ejr',\n",
       " '3f17',\n",
       " '3f3a',\n",
       " '3f3c',\n",
       " '3f3e',\n",
       " '3f80',\n",
       " '3fcq',\n",
       " '3fk1',\n",
       " '3fv1',\n",
       " '3g0w',\n",
       " '3g2n',\n",
       " '3g2z',\n",
       " '3gbb',\n",
       " '3gcs',\n",
       " '3ge7',\n",
       " '3gnw',\n",
       " '3gy4',\n",
       " '3huc',\n",
       " '3i3b',\n",
       " '3imc',\n",
       " '3ivg',\n",
       " '3jvs',\n",
       " '3k5v',\n",
       " '3kgp',\n",
       " '3kv2',\n",
       " '3kwa',\n",
       " '3l3n',\n",
       " '3l4u',\n",
       " '3l4w',\n",
       " '3l7b',\n",
       " '3lka',\n",
       " '3mfv',\n",
       " '3mss',\n",
       " '3muz',\n",
       " '3myg',\n",
       " '3n7a',\n",
       " '3n86',\n",
       " '3nox',\n",
       " '3nq3',\n",
       " '3nw9',\n",
       " '3oe5',\n",
       " '3ov1',\n",
       " '3owj',\n",
       " '3ozt',\n",
       " '3pe2',\n",
       " '3pww',\n",
       " '3pxf',\n",
       " '3s8o',\n",
       " '3su2',\n",
       " '3su3',\n",
       " '3su5',\n",
       " '3u9q',\n",
       " '3udh',\n",
       " '3ueu',\n",
       " '3uex',\n",
       " '3uo4',\n",
       " '3uri',\n",
       " '3utu',\n",
       " '3vd4',\n",
       " '3vh9',\n",
       " '3zso',\n",
       " '3zsx',\n",
       " '4de1',\n",
       " '4de2',\n",
       " '4des',\n",
       " '4dew',\n",
       " '4djr',\n",
       " '4djv',\n",
       " '4g8m',\n",
       " '4gid',\n",
       " '4gqq',\n",
       " '4tmn'}"
      ]
     },
     "execution_count": 20,
     "metadata": {},
     "output_type": "execute_result"
    }
   ],
   "source": [
    "# Separate core, refined, and general sets\n",
    "\n",
    "core_set = ! grep -v '#' $path/plain-text-index-2013/pdbbind_v2015_docs/INDEX_core_data.2013 | cut -f 1 -d ' '\n",
    "core_set = set(core_set)\n",
    "\n",
    "refined_set = ! grep -v '#' $path/plain-text-index/index/INDEX_refined_data.2019 | cut -f 1 -d ' '\n",
    "refined_set = set(refined_set)\n",
    "\n",
    "general_set = set(affinity_data['pdbid'])\n",
    "\n",
    "\n",
    "# assert core_set & refined_set == core_set\n",
    "#assert refined_set & general_set == refined_set\n",
    "\n",
    "len(general_set), len(refined_set), len(core_set)\n"
   ]
  },
  {
   "cell_type": "code",
   "execution_count": 26,
   "metadata": {},
   "outputs": [],
   "source": [
    "# Exclude v 2013 core set - it will be used as another test set\n",
    "\n",
    "core2013 = ! cat core_CASF.ids\n",
    "core2013 = set(core2013)\n",
    "\n",
    "affinity_data['include'] = True\n",
    "#affinity_data.loc[np.in1d(affinity_data['pdbid'], list(core2013 & (general_set - core_set))), 'include'] = False"
   ]
  },
  {
   "cell_type": "code",
   "execution_count": 28,
   "metadata": {
    "scrolled": false
   },
   "outputs": [
    {
     "data": {
      "text/html": [
       "<div>\n",
       "<style scoped>\n",
       "    .dataframe tbody tr th:only-of-type {\n",
       "        vertical-align: middle;\n",
       "    }\n",
       "\n",
       "    .dataframe tbody tr th {\n",
       "        vertical-align: top;\n",
       "    }\n",
       "\n",
       "    .dataframe thead th {\n",
       "        text-align: right;\n",
       "    }\n",
       "</style>\n",
       "<table border=\"1\" class=\"dataframe\">\n",
       "  <thead>\n",
       "    <tr style=\"text-align: right;\">\n",
       "      <th></th>\n",
       "      <th>pdbid</th>\n",
       "      <th>-logKd/Ki</th>\n",
       "      <th>include</th>\n",
       "      <th>set</th>\n",
       "    </tr>\n",
       "  </thead>\n",
       "  <tbody>\n",
       "    <tr>\n",
       "      <th>0</th>\n",
       "      <td>3zzf</td>\n",
       "      <td>0.40</td>\n",
       "      <td>True</td>\n",
       "      <td>general</td>\n",
       "    </tr>\n",
       "    <tr>\n",
       "      <th>1</th>\n",
       "      <td>3gww</td>\n",
       "      <td>0.45</td>\n",
       "      <td>True</td>\n",
       "      <td>general</td>\n",
       "    </tr>\n",
       "    <tr>\n",
       "      <th>2</th>\n",
       "      <td>1w8l</td>\n",
       "      <td>0.49</td>\n",
       "      <td>True</td>\n",
       "      <td>general</td>\n",
       "    </tr>\n",
       "    <tr>\n",
       "      <th>3</th>\n",
       "      <td>3fqa</td>\n",
       "      <td>0.49</td>\n",
       "      <td>True</td>\n",
       "      <td>general</td>\n",
       "    </tr>\n",
       "    <tr>\n",
       "      <th>4</th>\n",
       "      <td>1zsb</td>\n",
       "      <td>0.60</td>\n",
       "      <td>True</td>\n",
       "      <td>general</td>\n",
       "    </tr>\n",
       "  </tbody>\n",
       "</table>\n",
       "</div>"
      ],
      "text/plain": [
       "  pdbid  -logKd/Ki  include      set\n",
       "0  3zzf       0.40     True  general\n",
       "1  3gww       0.45     True  general\n",
       "2  1w8l       0.49     True  general\n",
       "3  3fqa       0.49     True  general\n",
       "4  1zsb       0.60     True  general"
      ]
     },
     "execution_count": 28,
     "metadata": {},
     "output_type": "execute_result"
    }
   ],
   "source": [
    "affinity_data.loc[np.in1d(affinity_data['pdbid'], list(general_set)), 'set'] = 'general'\n",
    "\n",
    "affinity_data.loc[np.in1d(affinity_data['pdbid'], list(refined_set)), 'set'] = 'refined'\n",
    "\n",
    "affinity_data.loc[np.in1d(affinity_data['pdbid'], list(core2013)), 'set'] = 'core'\n",
    "\n",
    "affinity_data.head()"
   ]
  },
  {
   "cell_type": "code",
   "execution_count": 29,
   "metadata": {
    "scrolled": false
   },
   "outputs": [
    {
     "data": {
      "text/plain": [
       "set\n",
       "core         285\n",
       "general    12781\n",
       "refined     4586\n",
       "dtype: int64"
      ]
     },
     "execution_count": 29,
     "metadata": {},
     "output_type": "execute_result"
    }
   ],
   "source": [
    "affinity_data[affinity_data['include']].groupby('set').apply(len)"
   ]
  },
  {
   "cell_type": "code",
   "execution_count": 31,
   "metadata": {},
   "outputs": [],
   "source": [
    "affinity_data.to_csv('affinity_data_cleaned.csv')"
   ]
  },
  {
   "cell_type": "code",
   "execution_count": 14,
   "metadata": {},
   "outputs": [
    {
     "name": "stdout",
     "output_type": "stream",
     "text": [
      "not found\n"
     ]
    }
   ],
   "source": [
    "# Check if 81 exist in DataFrame\n",
    "if '3zf' in affinity_data.values:\n",
    "    print('Element exists in Dataframe')\n",
    "else:\n",
    "    print('not found')"
   ]
  },
  {
   "cell_type": "code",
   "execution_count": 12,
   "metadata": {},
   "outputs": [
    {
     "name": "stderr",
     "output_type": "stream",
     "text": [
      "/Users/prguser/opt/anaconda3/envs/pafnucy/lib/python3.7/site-packages/seaborn/axisgrid.py:243: UserWarning: The `size` parameter has been renamed to `height`; please update your code.\n",
      "  warnings.warn(msg, UserWarning)\n"
     ]
    },
    {
     "data": {
      "image/png": "[encoded data removed]",
      "text/plain": [
       "<Figure size 648x648 with 3 Axes>"
      ]
     },
     "metadata": {
      "needs_background": "light"
     },
     "output_type": "display_data"
    }
   ],
   "source": [
    "# Check affinity distributions\n",
    "\n",
    "grid = sns.FacetGrid(affinity_data[affinity_data['include']], row='set', row_order=['general', 'refined', 'core'],\n",
    "                     size=3, aspect=3)\n",
    "grid.map(sns.distplot, '-logKd/Ki');"
   ]
  },
  {
   "cell_type": "code",
   "execution_count": 13,
   "metadata": {},
   "outputs": [],
   "source": [
    "affinity_data[['pdbid']].to_csv('pdb.ids', header=False, index=False)"
   ]
  },
  {
   "cell_type": "code",
   "execution_count": 14,
   "metadata": {},
   "outputs": [],
   "source": [
    "affinity_data[['pdbid', '-logKd/Ki', 'set']].to_csv('affinity_data_cleaned.csv', index=False)"
   ]
  },
  {
   "cell_type": "markdown",
   "metadata": {},
   "source": [
    "---"
   ]
  },
  {
   "cell_type": "markdown",
   "metadata": {},
   "source": [
    "# Parse molecules"
   ]
  },
  {
   "cell_type": "code",
   "execution_count": 15,
   "metadata": {},
   "outputs": [],
   "source": [
    "#dataset_path = {'general': 'general-set-except-refined', 'refined': 'refined-set', 'core': 'refined-set'}\n",
    "dataset_path = {'refined': 'test-set'}"
   ]
  },
  {
   "cell_type": "code",
   "execution_count": 18,
   "metadata": {},
   "outputs": [
    {
     "name": "stderr",
     "output_type": "stream",
     "text": [
      "bash: line 15: !chimera: command not found\n",
      "bash: line 16: chimera: command not found\n",
      "sed: tmp.mol2: No such file or directory\n"
     ]
    }
   ],
   "source": [
    "%%bash -s $path\n",
    "\n",
    "# Prepare pockets with UCSF Chimera - pybel sometimes fails to calculate the charges.\n",
    "# Even if Chimera fails to calculate several charges (mostly for non-standard residues),\n",
    "# it returns charges for other residues.\n",
    "\n",
    "path=$1\n",
    "\n",
    "#for dataset in general-set-except-refined refined-set; do\n",
    "for dataset in test-set; do\n",
    "    echo $dataset\n",
    "    for pdbfile in $path/$dataset/*/*_pocket.pdb; do\n",
    "        mol2file=${pdbfile%pdb}mol2\n",
    "        \n",
    "        if [[ ! -e $mol2file ]]; then\n",
    "            !chimera\n",
    "            echo -e \"open $pdbfile \\n addh \\n addcharge \\n write format mol2 0 tmp.mol2 \\n stop\" | chimera --nogui\n",
    "            # Do not use TIP3P atom types, pybel cannot read them\n",
    "            sed 's/H\\.t3p/H    /' tmp.mol2 | sed 's/O\\.t3p/O\\.3  /' > $mol2file\n",
    "        fi\n",
    "    done \n",
    "done > chimera_rw.log"
   ]
  },
  {
   "cell_type": "code",
   "execution_count": 45,
   "metadata": {},
   "outputs": [
    {
     "name": "stdout",
     "output_type": "stream",
     "text": [
      "core set\n"
     ]
    },
    {
     "name": "stderr",
     "output_type": "stream",
     "text": [
      "/Users/prguser/opt/anaconda3/envs/pafnucy/lib/python3.7/site-packages/ipykernel_launcher.py:27: UserWarning: no pocket for 3ao4 (core set)\n",
      "/Users/prguser/opt/anaconda3/envs/pafnucy/lib/python3.7/site-packages/ipykernel_launcher.py:27: UserWarning: no pocket for 3i3b (core set)\n",
      "/Users/prguser/opt/anaconda3/envs/pafnucy/lib/python3.7/site-packages/ipykernel_launcher.py:27: UserWarning: no pocket for 1uto (core set)\n",
      "/Users/prguser/opt/anaconda3/envs/pafnucy/lib/python3.7/site-packages/ipykernel_launcher.py:27: UserWarning: no pocket for 1ps3 (core set)\n"
     ]
    },
    {
     "ename": "OSError",
     "evalue": "No such file: '../PDBbind/refined-set/1qi0/1qi0_ligand.mol2'",
     "output_type": "error",
     "traceback": [
      "\u001b[0;31m---------------------------------------------------------------------------\u001b[0m",
      "\u001b[0;31mOSError\u001b[0m                                   Traceback (most recent call last)",
      "\u001b[0;32m<ipython-input-45-903eee7e93ec>\u001b[0m in \u001b[0;36m<module>\u001b[0;34m\u001b[0m\n\u001b[1;32m     18\u001b[0m                 \u001b[0maffinity\u001b[0m \u001b[0;34m=\u001b[0m \u001b[0mrow\u001b[0m\u001b[0;34m[\u001b[0m\u001b[0;34m'-logKd/Ki'\u001b[0m\u001b[0;34m]\u001b[0m\u001b[0;34m\u001b[0m\u001b[0;34m\u001b[0m\u001b[0m\n\u001b[1;32m     19\u001b[0m \u001b[0;34m\u001b[0m\u001b[0m\n\u001b[0;32m---> 20\u001b[0;31m                 \u001b[0mligand\u001b[0m \u001b[0;34m=\u001b[0m \u001b[0mnext\u001b[0m\u001b[0;34m(\u001b[0m\u001b[0mpybel\u001b[0m\u001b[0;34m.\u001b[0m\u001b[0mreadfile\u001b[0m\u001b[0;34m(\u001b[0m\u001b[0;34m'mol2'\u001b[0m\u001b[0;34m,\u001b[0m \u001b[0;34m'%s/%s/%s/%s_ligand.mol2'\u001b[0m \u001b[0;34m%\u001b[0m \u001b[0;34m(\u001b[0m\u001b[0mpath\u001b[0m\u001b[0;34m,\u001b[0m \u001b[0mds_path\u001b[0m\u001b[0;34m,\u001b[0m \u001b[0mname\u001b[0m\u001b[0;34m,\u001b[0m \u001b[0mname\u001b[0m\u001b[0;34m)\u001b[0m\u001b[0;34m)\u001b[0m\u001b[0;34m)\u001b[0m\u001b[0;34m\u001b[0m\u001b[0;34m\u001b[0m\u001b[0m\n\u001b[0m\u001b[1;32m     21\u001b[0m                 \u001b[0;31m# do not add the hydrogens! they are in the strucutre and it would reset the charges\u001b[0m\u001b[0;34m\u001b[0m\u001b[0;34m\u001b[0m\u001b[0;34m\u001b[0m\u001b[0m\n\u001b[1;32m     22\u001b[0m \u001b[0;34m\u001b[0m\u001b[0m\n",
      "\u001b[0;32m~/opt/anaconda3/envs/pafnucy/lib/python3.7/site-packages/pybel.py\u001b[0m in \u001b[0;36mreadfile\u001b[0;34m(format, filename, opt)\u001b[0m\n\u001b[1;32m    158\u001b[0m         \u001b[0;32mraise\u001b[0m \u001b[0mValueError\u001b[0m\u001b[0;34m(\u001b[0m\u001b[0;34m\"%s is not a recognised Open Babel format\"\u001b[0m \u001b[0;34m%\u001b[0m \u001b[0mformat\u001b[0m\u001b[0;34m)\u001b[0m\u001b[0;34m\u001b[0m\u001b[0;34m\u001b[0m\u001b[0m\n\u001b[1;32m    159\u001b[0m     \u001b[0;32mif\u001b[0m \u001b[0;32mnot\u001b[0m \u001b[0mos\u001b[0m\u001b[0;34m.\u001b[0m\u001b[0mpath\u001b[0m\u001b[0;34m.\u001b[0m\u001b[0misfile\u001b[0m\u001b[0;34m(\u001b[0m\u001b[0mfilename\u001b[0m\u001b[0;34m)\u001b[0m\u001b[0;34m:\u001b[0m\u001b[0;34m\u001b[0m\u001b[0;34m\u001b[0m\u001b[0m\n\u001b[0;32m--> 160\u001b[0;31m         \u001b[0;32mraise\u001b[0m \u001b[0mIOError\u001b[0m\u001b[0;34m(\u001b[0m\u001b[0;34m\"No such file: '%s'\"\u001b[0m \u001b[0;34m%\u001b[0m \u001b[0mfilename\u001b[0m\u001b[0;34m)\u001b[0m\u001b[0;34m\u001b[0m\u001b[0;34m\u001b[0m\u001b[0m\n\u001b[0m\u001b[1;32m    161\u001b[0m \u001b[0;34m\u001b[0m\u001b[0m\n\u001b[1;32m    162\u001b[0m     \u001b[0;32mdef\u001b[0m \u001b[0mfilereader\u001b[0m\u001b[0;34m(\u001b[0m\u001b[0;34m)\u001b[0m\u001b[0;34m:\u001b[0m\u001b[0;34m\u001b[0m\u001b[0;34m\u001b[0m\u001b[0m\n",
      "\u001b[0;31mOSError\u001b[0m: No such file: '../PDBbind/refined-set/1qi0/1qi0_ligand.mol2'"
     ]
    }
   ],
   "source": [
    "featurizer = Featurizer()\n",
    "charge_idx = featurizer.FEATURE_NAMES.index('partialcharge')\n",
    "\n",
    "with h5py.File('%s/core2013.hdf' % path, 'w') as g:\n",
    "    j = 0\n",
    "\n",
    "    for dataset_name, data in affinity_data.groupby('set'):\n",
    "\n",
    "        print(dataset_name, 'set')\n",
    "        i = 0\n",
    "        ds_path = dataset_path[dataset_name]\n",
    "\n",
    "\n",
    "        with h5py.File('%s/%s.hdf' % (path, dataset_name), 'w') as f:\n",
    "            for _, row in data.iterrows():\n",
    "\n",
    "                name = row['pdbid']\n",
    "                affinity = row['-logKd/Ki']\n",
    "\n",
    "                ligand = next(pybel.readfile('mol2', '%s/%s/%s/%s_ligand.mol2' % (path, ds_path, name, name)))\n",
    "                # do not add the hydrogens! they are in the strucutre and it would reset the charges\n",
    "\n",
    "                try:\n",
    "                    pocket = next(pybel.readfile('mol2', '%s/%s/%s/%s_pocket.mol2' % (path, ds_path, name, name)))\n",
    "                    # do not add the hydrogens! they were already added in chimera and it would reset the charges\n",
    "                except:\n",
    "                    warnings.warn('no pocket for %s (%s set)' % (name, dataset_name))\n",
    "                    continue\n",
    "\n",
    "                ligand_coords, ligand_features = featurizer.get_features(ligand, molcode=1)\n",
    "                assert (ligand_features[:, charge_idx] != 0).any()\n",
    "                pocket_coords, pocket_features = featurizer.get_features(pocket, molcode=-1)\n",
    "                assert (pocket_features[:, charge_idx] != 0).any() \n",
    "\n",
    "                centroid = ligand_coords.mean(axis=0)\n",
    "                ligand_coords -= centroid\n",
    "                pocket_coords -= centroid\n",
    "\n",
    "                data = np.concatenate((np.concatenate((ligand_coords, pocket_coords)),\n",
    "                                       np.concatenate((ligand_features, pocket_features))), axis=1)\n",
    "\n",
    "                if row['include']:\n",
    "                    dataset = f.create_dataset(name, data=data, shape=data.shape, dtype='float32', compression='lzf')\n",
    "                    dataset.attrs['affinity'] = affinity\n",
    "                    i += 1\n",
    "                else:\n",
    "                    dataset = g.create_dataset(name, data=data, shape=data.shape, dtype='float32', compression='lzf')\n",
    "                    dataset.attrs['affinity'] = affinity\n",
    "                    j += 1\n",
    "\n",
    "        print('prepared', i, 'complexes')\n",
    "    print('excluded', j, 'complexes')"
   ]
  },
  {
   "cell_type": "code",
   "execution_count": 17,
   "metadata": {},
   "outputs": [],
   "source": [
    "with h5py.File('%s/core.hdf' % path, 'r') as f, \\\n",
    "     h5py.File('%s/core2013.hdf' % path, 'r+') as g:\n",
    "    for name in f:\n",
    "        if name in core2013:\n",
    "            dataset = g.create_dataset(name, data=f[name])\n",
    "            dataset.attrs['affinity'] = f[name].attrs['affinity']"
   ]
  },
  {
   "cell_type": "markdown",
   "metadata": {
    "collapsed": true
   },
   "source": [
    "# Protein data"
   ]
  },
  {
   "cell_type": "code",
   "execution_count": 50,
   "metadata": {},
   "outputs": [
    {
     "data": {
      "text/html": [
       "<div>\n",
       "<style scoped>\n",
       "    .dataframe tbody tr th:only-of-type {\n",
       "        vertical-align: middle;\n",
       "    }\n",
       "\n",
       "    .dataframe tbody tr th {\n",
       "        vertical-align: top;\n",
       "    }\n",
       "\n",
       "    .dataframe thead th {\n",
       "        text-align: right;\n",
       "    }\n",
       "</style>\n",
       "<table border=\"1\" class=\"dataframe\">\n",
       "  <thead>\n",
       "    <tr style=\"text-align: right;\">\n",
       "      <th></th>\n",
       "      <th>pdbid</th>\n",
       "      <th>year</th>\n",
       "      <th>uniprotid</th>\n",
       "      <th>name</th>\n",
       "    </tr>\n",
       "  </thead>\n",
       "  <tbody>\n",
       "    <tr>\n",
       "      <th>0</th>\n",
       "      <td>6mu1</td>\n",
       "      <td>2018</td>\n",
       "      <td>P29994</td>\n",
       "      <td>INOSITOL 1,4,5-TRISPHOSPHATE RECEPTOR TYPE 1</td>\n",
       "    </tr>\n",
       "    <tr>\n",
       "      <th>1</th>\n",
       "      <td>3t8s</td>\n",
       "      <td>2011</td>\n",
       "      <td>P29994</td>\n",
       "      <td>INOSITOL 1,4,5-TRISPHOSPHATE RECEPTOR TYPE 1</td>\n",
       "    </tr>\n",
       "    <tr>\n",
       "      <th>2</th>\n",
       "      <td>1n4k</td>\n",
       "      <td>2002</td>\n",
       "      <td>P11881</td>\n",
       "      <td>INOSITOL 1,4,5-TRISPHOSPHATE RECEPTOR TYPE 1</td>\n",
       "    </tr>\n",
       "    <tr>\n",
       "      <th>3</th>\n",
       "      <td>5urm</td>\n",
       "      <td>2017</td>\n",
       "      <td>O75643</td>\n",
       "      <td>U5 SMALL NUCLEAR RIBONUCLEOPROTEIN 200 KDA HEL...</td>\n",
       "    </tr>\n",
       "    <tr>\n",
       "      <th>4</th>\n",
       "      <td>5urj</td>\n",
       "      <td>2017</td>\n",
       "      <td>O75643</td>\n",
       "      <td>U5 SMALL NUCLEAR RIBONUCLEOPROTEIN 200 KDA HEL...</td>\n",
       "    </tr>\n",
       "  </tbody>\n",
       "</table>\n",
       "</div>"
      ],
      "text/plain": [
       "  pdbid  year uniprotid                                               name\n",
       "0  6mu1  2018    P29994       INOSITOL 1,4,5-TRISPHOSPHATE RECEPTOR TYPE 1\n",
       "1  3t8s  2011    P29994       INOSITOL 1,4,5-TRISPHOSPHATE RECEPTOR TYPE 1\n",
       "2  1n4k  2002    P11881       INOSITOL 1,4,5-TRISPHOSPHATE RECEPTOR TYPE 1\n",
       "3  5urm  2017    O75643  U5 SMALL NUCLEAR RIBONUCLEOPROTEIN 200 KDA HEL...\n",
       "4  5urj  2017    O75643  U5 SMALL NUCLEAR RIBONUCLEOPROTEIN 200 KDA HEL..."
      ]
     },
     "execution_count": 50,
     "metadata": {},
     "output_type": "execute_result"
    }
   ],
   "source": [
    "protein_data = pd.read_csv('../PDBbind/plain-text-index/index/INDEX_general_PL_name.2019',\n",
    "                           comment='#', sep='  ', engine='python', na_values='------',\n",
    "                           header=None, names=['pdbid', 'year', 'uniprotid', 'name'])\n",
    "\n",
    "protein_data.head()"
   ]
  },
  {
   "cell_type": "code",
   "execution_count": 51,
   "metadata": {},
   "outputs": [
    {
     "data": {
      "text/plain": [
       "pdbid        False\n",
       "year         False\n",
       "uniprotid     True\n",
       "name          True\n",
       "dtype: bool"
      ]
     },
     "execution_count": 51,
     "metadata": {},
     "output_type": "execute_result"
    }
   ],
   "source": [
    "# we assume that PDB IDs are unique\n",
    "assert ~protein_data['pdbid'].duplicated().any()\n",
    "\n",
    "protein_data = protein_data[np.in1d(protein_data['pdbid'], affinity_data['pdbid'])]\n",
    "\n",
    "# check for missing values\n",
    "protein_data.isnull().any()"
   ]
  },
  {
   "cell_type": "code",
   "execution_count": 56,
   "metadata": {
    "scrolled": false
   },
   "outputs": [
    {
     "data": {
      "text/html": [
       "<div>\n",
       "<style scoped>\n",
       "    .dataframe tbody tr th:only-of-type {\n",
       "        vertical-align: middle;\n",
       "    }\n",
       "\n",
       "    .dataframe tbody tr th {\n",
       "        vertical-align: top;\n",
       "    }\n",
       "\n",
       "    .dataframe thead th {\n",
       "        text-align: right;\n",
       "    }\n",
       "</style>\n",
       "<table border=\"1\" class=\"dataframe\">\n",
       "  <thead>\n",
       "    <tr style=\"text-align: right;\">\n",
       "      <th></th>\n",
       "      <th>pdbid</th>\n",
       "      <th>year</th>\n",
       "      <th>uniprotid</th>\n",
       "      <th>name</th>\n",
       "    </tr>\n",
       "  </thead>\n",
       "  <tbody>\n",
       "    <tr>\n",
       "      <th>360</th>\n",
       "      <td>6d50</td>\n",
       "      <td>2018</td>\n",
       "      <td>NaN</td>\n",
       "      <td>GLYCOSYL HYDROLASES FAMILY 2, SUGAR BINDING DO...</td>\n",
       "    </tr>\n",
       "    <tr>\n",
       "      <th>361</th>\n",
       "      <td>5hv1</td>\n",
       "      <td>2016</td>\n",
       "      <td>NaN</td>\n",
       "      <td>PHOSPHOENOLPYRUVATE SYNTHASE</td>\n",
       "    </tr>\n",
       "    <tr>\n",
       "      <th>612</th>\n",
       "      <td>2x24</td>\n",
       "      <td>2011</td>\n",
       "      <td>NaN</td>\n",
       "      <td>ACETYL-COA CARBOXYLASE</td>\n",
       "    </tr>\n",
       "    <tr>\n",
       "      <th>673</th>\n",
       "      <td>6mvu</td>\n",
       "      <td>2018</td>\n",
       "      <td>NaN</td>\n",
       "      <td>ALDEHYDE DEHYDROGENASE</td>\n",
       "    </tr>\n",
       "    <tr>\n",
       "      <th>748</th>\n",
       "      <td>6f92</td>\n",
       "      <td>2018</td>\n",
       "      <td>NaN</td>\n",
       "      <td>PUTATIVE ALPHA-1,2-MANNOSIDASE</td>\n",
       "    </tr>\n",
       "    <tr>\n",
       "      <th>...</th>\n",
       "      <td>...</td>\n",
       "      <td>...</td>\n",
       "      <td>...</td>\n",
       "      <td>...</td>\n",
       "    </tr>\n",
       "    <tr>\n",
       "      <th>17647</th>\n",
       "      <td>2r5b</td>\n",
       "      <td>2007</td>\n",
       "      <td>NaN</td>\n",
       "      <td>GP41 N-PEPTIDE</td>\n",
       "    </tr>\n",
       "    <tr>\n",
       "      <th>17648</th>\n",
       "      <td>2r5d</td>\n",
       "      <td>2007</td>\n",
       "      <td>NaN</td>\n",
       "      <td>GP41 N-PEPTIDE</td>\n",
       "    </tr>\n",
       "    <tr>\n",
       "      <th>17659</th>\n",
       "      <td>6fx1</td>\n",
       "      <td>2018</td>\n",
       "      <td>NaN</td>\n",
       "      <td>LECTIN</td>\n",
       "    </tr>\n",
       "    <tr>\n",
       "      <th>17663</th>\n",
       "      <td>4u5t</td>\n",
       "      <td>2014</td>\n",
       "      <td>NaN</td>\n",
       "      <td>VBP LEUCINE ZIPPER</td>\n",
       "    </tr>\n",
       "    <tr>\n",
       "      <th>17676</th>\n",
       "      <td>6eiz</td>\n",
       "      <td>2018</td>\n",
       "      <td>NaN</td>\n",
       "      <td>CC-HEX2</td>\n",
       "    </tr>\n",
       "  </tbody>\n",
       "</table>\n",
       "<p>258 rows × 4 columns</p>\n",
       "</div>"
      ],
      "text/plain": [
       "      pdbid  year uniprotid                                               name\n",
       "360    6d50  2018       NaN  GLYCOSYL HYDROLASES FAMILY 2, SUGAR BINDING DO...\n",
       "361    5hv1  2016       NaN                       PHOSPHOENOLPYRUVATE SYNTHASE\n",
       "612    2x24  2011       NaN                             ACETYL-COA CARBOXYLASE\n",
       "673    6mvu  2018       NaN                             ALDEHYDE DEHYDROGENASE\n",
       "748    6f92  2018       NaN                     PUTATIVE ALPHA-1,2-MANNOSIDASE\n",
       "...     ...   ...       ...                                                ...\n",
       "17647  2r5b  2007       NaN                                     GP41 N-PEPTIDE\n",
       "17648  2r5d  2007       NaN                                     GP41 N-PEPTIDE\n",
       "17659  6fx1  2018       NaN                                             LECTIN\n",
       "17663  4u5t  2014       NaN                                 VBP LEUCINE ZIPPER\n",
       "17676  6eiz  2018       NaN                                            CC-HEX2\n",
       "\n",
       "[258 rows x 4 columns]"
      ]
     },
     "execution_count": 56,
     "metadata": {},
     "output_type": "execute_result"
    }
   ],
   "source": [
    "protein_data[protein_data['uniprotid'].isnull()]"
   ]
  },
  {
   "cell_type": "code",
   "execution_count": 55,
   "metadata": {},
   "outputs": [
    {
     "data": {
      "text/plain": [
       "pdbid        False\n",
       "year         False\n",
       "uniprotid     True\n",
       "name         False\n",
       "dtype: bool"
      ]
     },
     "execution_count": 55,
     "metadata": {},
     "output_type": "execute_result"
    }
   ],
   "source": [
    "# fix rows with wrong separators between protein ID and name\n",
    "\n",
    "for idx, row in protein_data[protein_data['name'].isnull()].iterrows():\n",
    "    uniprotid = row['uniprotid'][:6]\n",
    "    name = row['uniprotid'][7:]\n",
    "    protein_data.loc[idx, ['uniprotid', 'name']] = [uniprotid, name]\n",
    "\n",
    "protein_data.isnull().any()"
   ]
  },
  {
   "cell_type": "code",
   "execution_count": 22,
   "metadata": {},
   "outputs": [],
   "source": [
    "protein_data.to_csv('protein_data.csv', index=False)"
   ]
  },
  {
   "cell_type": "code",
   "execution_count": null,
   "metadata": {},
   "outputs": [],
   "source": []
  }
 ],
 "metadata": {
  "anaconda-cloud": {},
  "kernelspec": {
   "display_name": "pafnucy",
   "language": "python",
   "name": "pafnucy"
  },
  "language_info": {
   "codemirror_mode": {
    "name": "ipython",
    "version": 3
   },
   "file_extension": ".py",
   "mimetype": "text/x-python",
   "name": "python",
   "nbconvert_exporter": "python",
   "pygments_lexer": "ipython3",
   "version": "3.7.7"
  }
 },
 "nbformat": 4,
 "nbformat_minor": 1
}
