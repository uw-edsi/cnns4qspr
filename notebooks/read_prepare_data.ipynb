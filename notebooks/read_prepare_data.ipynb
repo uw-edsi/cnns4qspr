{
 "cells": [
  {
   "cell_type": "code",
   "execution_count": 1,
   "metadata": {},
   "outputs": [],
   "source": [
    "from silx.io.dictdump import h5todict\n",
    "import os\n",
    "import numpy as np\n",
    "#vox = h5todict(name + \".h5\", path='.')\n",
    "#vox = h5todict('/Users/prguser/Documents/cnns4qspr_trial/notebooks/test-output/1a4r.h5')\n"
   ]
  },
  {
   "cell_type": "code",
   "execution_count": 11,
   "metadata": {},
   "outputs": [],
   "source": [
    "channels = ['all_C', 'all_O', 'all_N', 'acidic', 'basic', 'polar', 'nonpolar',\\\n",
    "                 'charged', 'amphipathic','hydrophobic', 'aromatic', 'acceptor', 'donor',\\\n",
    "                 'ring', 'hyb', 'heavyvalence', 'heterovalence', 'partialcharge','protein', 'ligand']"
   ]
  },
  {
   "cell_type": "code",
   "execution_count": 25,
   "metadata": {},
   "outputs": [],
   "source": [
    "path = '/Users/prguser/Documents/cnns4qspr_trial/notebooks/small_set/'\n",
    "\n",
    "def convert_h5_data(file_path, channels_considered):\n",
    "\n",
    "    file_names = os.listdir(file_path)\n",
    "    data_for_cnn = []\n",
    "    target = []\n",
    "\n",
    "    for file in file_names:\n",
    "        input_file = os.path.join(file_path, file)\n",
    "        vox = h5todict(input_file)\n",
    "        data_structure = []\n",
    "        for channel in channels_considered:\n",
    "            data_structure.append(vox[channel])\n",
    "        data_for_cnn.append(data_structure)\n",
    "        target.append(vox['affinity'])\n",
    "\n",
    "    return np.array(data_for_cnn), np.array(target)"
   ]
  },
  {
   "cell_type": "code",
   "execution_count": 26,
   "metadata": {},
   "outputs": [],
   "source": [
    "input_data, affinity = convert_h5_data(path, channels)\n"
   ]
  },
  {
   "cell_type": "code",
   "execution_count": 27,
   "metadata": {},
   "outputs": [
    {
     "data": {
      "text/plain": [
       "360000160"
      ]
     },
     "execution_count": 27,
     "metadata": {},
     "output_type": "execute_result"
    }
   ],
   "source": [
    "from sys import getsizeof\n",
    "getsizeof(input_data)"
   ]
  },
  {
   "cell_type": "code",
   "execution_count": 28,
   "metadata": {},
   "outputs": [
    {
     "data": {
      "text/plain": [
       "array([2.5 , 6.74, 3.72, 3.13, 7.85, 6.  , 4.31, 9.  , 5.92, 8.  , 6.  ,\n",
       "       3.9 , 6.96, 5.3 , 8.29, 6.62, 6.66, 6.92, 6.17, 2.23, 6.1 , 5.36,\n",
       "       5.7 , 6.28, 8.4 , 6.52, 4.54, 6.28, 4.3 , 7.72, 2.63, 3.87, 7.91,\n",
       "       4.82, 4.09, 4.3 ])"
      ]
     },
     "execution_count": 28,
     "metadata": {},
     "output_type": "execute_result"
    }
   ],
   "source": [
    "affinity"
   ]
  },
  {
   "cell_type": "code",
   "execution_count": 30,
   "metadata": {},
   "outputs": [
    {
     "data": {
      "text/plain": [
       "20"
      ]
     },
     "execution_count": 30,
     "metadata": {},
     "output_type": "execute_result"
    }
   ],
   "source": [
    "input_data.shape[1]"
   ]
  },
  {
   "cell_type": "code",
   "execution_count": null,
   "metadata": {},
   "outputs": [],
   "source": []
  }
 ],
 "metadata": {
  "kernelspec": {
   "display_name": "cnns4qspr",
   "language": "python",
   "name": "cnns4qspr"
  },
  "language_info": {
   "codemirror_mode": {
    "name": "ipython",
    "version": 3
   },
   "file_extension": ".py",
   "mimetype": "text/x-python",
   "name": "python",
   "nbconvert_exporter": "python",
   "pygments_lexer": "ipython3",
   "version": "3.7.7"
  }
 },
 "nbformat": 4,
 "nbformat_minor": 4
}
